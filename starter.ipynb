{
 "cells": [
  {
   "cell_type": "code",
   "execution_count": 23,
   "id": "efab7d46",
   "metadata": {},
   "outputs": [
    {
     "name": "stdout",
     "output_type": "stream",
     "text": [
      "Geom name for index0: red_box\n",
      "Geom name for index1: green_sphere\n"
     ]
    }
   ],
   "source": [
    "import mujoco\n",
    "import mediapy\n",
    "xml = \"\"\"\n",
    "<mujoco>\n",
    "  <worldbody>\n",
    "    <geom name=\"red_box\" type=\"box\" size=\".2 .2 .2\" rgba=\"1 0 0 1\"/>\n",
    "    <geom name=\"green_sphere\" pos=\".2 .2 .2\" size=\".1\" rgba=\"0 1 0 1\"/>\n",
    "  </worldbody>\n",
    "</mujoco>\n",
    "\"\"\"\n",
    "\n",
    "model = mujoco.MjModel.from_xml_string(xml)\n",
    "\n",
    "#print(\"geom id 1 name:\", model.geom(1).name)\n",
    "#print(\"body id 0 name:\", model.body(0).name)\n",
    "for i in range(model.ngeom):\n",
    "  print(f\"Geom name for index{i}:\",model.geom(i).name)"
   ]
  },
  {
   "cell_type": "code",
   "execution_count": 24,
   "id": "4c1f8c20",
   "metadata": {},
   "outputs": [
    {
     "name": "stdout",
     "output_type": "stream",
     "text": [
      "unpropagated derived quantities for geom positions:\n",
      " [[0. 0. 0.]\n",
      " [0. 0. 0.]]\n",
      "\n",
      "propagated derived quantities for geom positions:\n",
      " [[0.  0.  0. ]\n",
      " [0.2 0.2 0.2]]\n"
     ]
    }
   ],
   "source": [
    "data = mujoco.MjData(model)\n",
    "print(\"unpropagated derived quantities for geom positions:\\n\",data.geom_xpos)\n",
    "print()\n",
    "mujoco.mj_kinematics(model, data) # apply mj_kinematics to propagate derived quantities\n",
    "print(\"propagated derived quantities for geom positions:\\n\",data.geom_xpos)"
   ]
  },
  {
   "cell_type": "markdown",
   "id": "383bfd1d",
   "metadata": {},
   "source": [
    "Currently on \"Basic rendering, simulation, and animation\" for tutorial1, at the above link"
   ]
  }
 ],
 "metadata": {
  "kernelspec": {
   "display_name": "mujoco",
   "language": "python",
   "name": "python3"
  },
  "language_info": {
   "codemirror_mode": {
    "name": "ipython",
    "version": 3
   },
   "file_extension": ".py",
   "mimetype": "text/x-python",
   "name": "python",
   "nbconvert_exporter": "python",
   "pygments_lexer": "ipython3",
   "version": "3.10.17"
  }
 },
 "nbformat": 4,
 "nbformat_minor": 5
}
